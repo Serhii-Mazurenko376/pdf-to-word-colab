{
  "nbformat": 4,
  "nbformat_minor": 0,
  "metadata": {
    "colab": {
      "provenance": [],
      "authorship_tag": "ABX9TyNNwZsC2ELpFDrvVF7sCEox",
      "include_colab_link": true
    },
    "kernelspec": {
      "name": "python3",
      "display_name": "Python 3"
    },
    "language_info": {
      "name": "python"
    }
  },
  "cells": [
    {
      "cell_type": "markdown",
      "metadata": {
        "id": "view-in-github",
        "colab_type": "text"
      },
      "source": [
        "<a href=\"https://colab.research.google.com/github/Serhii-Mazurenko376/pdf-to-word-colab/blob/main/pdf_to_word_converter.ipynb\" target=\"_parent\"><img src=\"https://colab.research.google.com/assets/colab-badge.svg\" alt=\"Open In Colab\"/></a>"
      ]
    },
    {
      "cell_type": "code",
      "source": [
        "from google.colab import files\n",
        "\n",
        "# Upload PDF file\n",
        "uploaded = files.upload()"
      ],
      "metadata": {
        "id": "M8w659KdKPdW"
      },
      "execution_count": null,
      "outputs": []
    },
    {
      "cell_type": "code",
      "source": [
        "from pdf2docx import Converter\n",
        "\n",
        "pdf_file = list(uploaded.keys())[0]\n",
        "docx_file = pdf_file.replace('.pdf', '.docx')\n",
        "\n",
        "cv = Converter(pdf_file)\n",
        "cv.convert(docx_file, start=0, end=None)\n",
        "cv.close()"
      ],
      "metadata": {
        "id": "EDCOqPWMKVS7"
      },
      "execution_count": null,
      "outputs": []
    },
    {
      "cell_type": "code",
      "source": [
        "files.download(docx_file)"
      ],
      "metadata": {
        "id": "_QJJ7L20KfSn"
      },
      "execution_count": null,
      "outputs": []
    },
    {
      "cell_type": "code",
      "source": [],
      "metadata": {
        "id": "m3l0RcePKizA"
      },
      "execution_count": null,
      "outputs": []
    }
  ]
}